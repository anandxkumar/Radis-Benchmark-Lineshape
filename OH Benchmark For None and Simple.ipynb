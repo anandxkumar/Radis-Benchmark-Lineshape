{
 "cells": [
  {
   "cell_type": "code",
   "execution_count": 1,
   "metadata": {},
   "outputs": [
    {
     "name": "stdout",
     "output_type": "stream",
     "text": [
      "0.9.28\n"
     ]
    }
   ],
   "source": [
    "import math\n",
    "from radis import get_version\n",
    "print(get_version())\n",
    "\n",
    "conditions = {\n",
    "    'wavenum_min':500,             # cm-1\n",
    "    'wavenum_max':10000,           # cm-1\n",
    "    'molecule':'OH',\n",
    "    'isotope':'1',\n",
    "    'pressure':1.01325,            # bar \n",
    "    'Tgas':300,\n",
    "    'mole_fraction':0.1,\n",
    "    'path_length':1,\n",
    "    'cutoff':1e-27,\n",
    "    'verbose':3,\n",
    "    'databank':'hitemp'\n",
    "    }\n"
   ]
  },
  {
   "cell_type": "markdown",
   "metadata": {},
   "source": [
    "## Optimization = 'simple'\n"
   ]
  },
  {
   "cell_type": "code",
   "execution_count": 2,
   "metadata": {},
   "outputs": [
    {
     "name": "stdout",
     "output_type": "stream",
     "text": [
      "Using existing database HITEMP-OH\n",
      "\u001b[32mGenerated dataframe from /home/pipebomb/.radisdb/OH-13_HITEMP2020.h5 in 0.15s (24164 rows, 19 columns, 14.06 MB)\u001b[0m\n",
      "The following columns had the `object` format and were removed: ['globu', 'globl', 'locu', 'locl', 'ierr', 'iref', 'lmix']\n",
      "\u001b[32m... Fetching molecular parameters for all transitions\u001b[0m\n",
      "\u001b[32m... Fetched molecular params in 0.00s\u001b[0m\n",
      "HAPI version: 1.1.2.0\n",
      "To get the most up-to-date version please check http://hitran.org/hapi\n",
      "ATTENTION: Python versions of partition sums from TIPS-2017 are now available in HAPI code\n",
      "\n",
      "           It is free to use HAPI. If you use HAPI in your research or software development,\n",
      "           please cite it using the following reference:\n",
      "           R.V. Kochanov, I.E. Gordon, L.S. Rothman, P. Wcislo, C. Hill, J.S. Wilzewski,\n",
      "           HITRAN Application Programming Interface (HAPI): A comprehensive approach\n",
      "           to working with spectroscopic data, J. Quant. Spectrosc. Radiat. Transfer 177, 15-30 (2016)\n",
      "           DOI: 10.1016/j.jqsrt.2016.03.005\n",
      "\u001b[32mHAPI version: 1.1.2.0\u001b[0m\n",
      "Calculating Equilibrium Spectrum\n",
      "Physical Conditions\n",
      "----------------------------------------\n",
      "   Tgas                 300 K\n",
      "   Trot                 300 K\n",
      "   Tvib                 300 K\n",
      "   isotope              1\n",
      "   mole_fraction        0.1\n",
      "   molecule             OH\n",
      "   path_length          1 cm\n",
      "   pressure_mbar        1013.25 mbar\n",
      "   rot_distribution     boltzmann\n",
      "   self_absorption      True\n",
      "   state                X\n",
      "   vib_distribution     boltzmann\n",
      "   wavenum_max          10000.0000 cm-1\n",
      "   wavenum_min          500.0000 cm-1\n",
      "Computation Parameters\n",
      "----------------------------------------\n",
      "   Tref                 296 K\n",
      "   broadening_max_width  10 cm-1\n",
      "   broadening_method    fft\n",
      "   cutoff               1e-27 cm-1/(#.cm-2)\n",
      "   dbformat             hitemp-radisdb\n",
      "   dbpath               /home/pipebomb/.radisdb/OH-13_HITEMP2020.h5\n",
      "   dlm_log_pG           0.1375350788016573\n",
      "   dlm_log_pL           0.20180288881201608\n",
      "   folding_thresh       1e-06\n",
      "   include_neighbouring_lines  True\n",
      "   optimization         simple\n",
      "   parfuncfmt           hapi\n",
      "   pseudo_continuum_threshold  0\n",
      "   wavenum_max_calc     10005.0000 cm-1\n",
      "   wavenum_min_calc     495.0000 cm-1\n",
      "   waveunit             cm-1\n",
      "   wstep                0.01 cm-1\n",
      "   zero_padding         -1\n",
      "Information\n",
      "----------------------------------------\n",
      "   db_use_cached        True\n",
      "   export_lines         False\n",
      "   lvl_use_cached       True\n",
      "   total_lines          24164\n",
      "   warning_broadening_threshold  0.01\n",
      "   warning_linestrength_cutoff  0.01\n",
      "----------------------------------------\n",
      "\u001b[32mScaling equilibrium linestrength\u001b[0m\n",
      "\u001b[32mScaled equilibrium linestrength in 0.01s\u001b[0m\n",
      "Discarded 97.00% of lines (linestrength<1e-27cm-1/(#.cm-2)) Estimated error: 0.00%, Expected time saved: 2.3s\n",
      "\u001b[32mApplied linestrength cutoff in 0.0s (expected time saved ~ 2.3s)\u001b[0m\n",
      "\u001b[32mCalculated lineshift in 0.00s\u001b[0m\n",
      "\u001b[32mCalculated broadening HWHM in 0.00s\u001b[0m\n",
      "\u001b[32m> Calculating line broadening (725 lines: expect ~ 0.07s on 1 CPU)\u001b[0m\n"
     ]
    },
    {
     "name": "stderr",
     "output_type": "stream",
     "text": [
      "/home/pipebomb/Desktop/radis/radis/misc/warning.py:302: MissingSelfBroadeningWarning: Self-broadening temperature coefficient Tdpsel not given in database: used Tdpair instead\n",
      "  warnings.warn(WarningType(message))\n"
     ]
    },
    {
     "name": "stdout",
     "output_type": "stream",
     "text": [
      "\u001b[32m... Precomputed DLM lineshapes (92) in 2.9s\u001b[0m\n",
      "\u001b[32m... Initialized vectors in 0.0s\u001b[0m\n",
      "\u001b[32m... Get closest matching line & fraction in 0.0s\u001b[0m\n",
      "\u001b[32m... Distribute lines over DLM 0.0s\u001b[0m\n",
      "\u001b[32m... Convolve and sum on spectral range 68.8s\u001b[0m\n",
      "\u001b[32mCalculated line broadening in 71.72s\u001b[0m\n",
      "\u001b[32mCalculated other spectral quantities in 0.05s\u001b[0m\n",
      "\u001b[32mSpectrum calculated in 71.80s (before object generation)\u001b[0m\n",
      "\u001b[32mGenerated Spectrum object in 0.04s\u001b[0m\n",
      "Spectrum calculated in 71.84s\n"
     ]
    }
   ],
   "source": [
    "from radis import calc_spectrum\n",
    "import math\n",
    "s1 = calc_spectrum(**conditions,\n",
    "                  optimization='simple', \n",
    "                  )\n",
    "s1.name = 'LDM, simple ({0:.1f}s)'.format(s1.conditions['calculation_time'])\n"
   ]
  },
  {
   "cell_type": "markdown",
   "metadata": {},
   "source": [
    "## Optimization = None"
   ]
  },
  {
   "cell_type": "code",
   "execution_count": 3,
   "metadata": {},
   "outputs": [
    {
     "name": "stdout",
     "output_type": "stream",
     "text": [
      "Using existing database HITEMP-OH\n",
      "\u001b[32mGenerated dataframe from /home/pipebomb/.radisdb/OH-13_HITEMP2020.h5 in 0.14s (24164 rows, 19 columns, 14.06 MB)\u001b[0m\n",
      "The following columns had the `object` format and were removed: ['globu', 'globl', 'locu', 'locl', 'ierr', 'iref', 'lmix']\n",
      "\u001b[32m... Fetching molecular parameters for all transitions\u001b[0m\n",
      "\u001b[32m... Fetched molecular params in 0.00s\u001b[0m\n",
      "\u001b[32mHAPI version: 1.1.2.0\u001b[0m\n",
      "Calculating Equilibrium Spectrum\n",
      "Physical Conditions\n",
      "----------------------------------------\n",
      "   Tgas                 300 K\n",
      "   Trot                 300 K\n",
      "   Tvib                 300 K\n",
      "   isotope              1\n",
      "   mole_fraction        0.1\n",
      "   molecule             OH\n",
      "   path_length          1 cm\n",
      "   pressure_mbar        1013.25 mbar\n",
      "   rot_distribution     boltzmann\n",
      "   self_absorption      True\n",
      "   state                X\n",
      "   vib_distribution     boltzmann\n",
      "   wavenum_max          10000.0000 cm-1\n",
      "   wavenum_min          500.0000 cm-1\n",
      "Computation Parameters\n",
      "----------------------------------------\n",
      "   Tref                 296 K\n",
      "   broadening_max_width  10 cm-1\n",
      "   broadening_method    voigt\n",
      "   cutoff               1e-27 cm-1/(#.cm-2)\n",
      "   dbformat             hitemp-radisdb\n",
      "   dbpath               /home/pipebomb/.radisdb/OH-13_HITEMP2020.h5\n",
      "   dlm_log_pG           0.1375350788016573\n",
      "   dlm_log_pL           0.20180288881201608\n",
      "   folding_thresh       1e-06\n",
      "   include_neighbouring_lines  True\n",
      "   parfuncfmt           hapi\n",
      "   pseudo_continuum_threshold  0\n",
      "   wavenum_max_calc     10005.0000 cm-1\n",
      "   wavenum_min_calc     495.0000 cm-1\n",
      "   waveunit             cm-1\n",
      "   wstep                0.01 cm-1\n",
      "   zero_padding         -1\n",
      "Information\n",
      "----------------------------------------\n",
      "   db_use_cached        True\n",
      "   export_lines         False\n",
      "   lvl_use_cached       True\n",
      "   total_lines          24164\n",
      "   warning_broadening_threshold  0.01\n",
      "   warning_linestrength_cutoff  0.01\n",
      "----------------------------------------\n",
      "\u001b[32mScaling equilibrium linestrength\u001b[0m\n",
      "\u001b[32mScaled equilibrium linestrength in 0.01s\u001b[0m\n",
      "Discarded 97.00% of lines (linestrength<1e-27cm-1/(#.cm-2)) Estimated error: 0.00%, Expected time saved: 2.3s\n",
      "\u001b[32mApplied linestrength cutoff in 0.0s (expected time saved ~ 2.3s)\u001b[0m\n",
      "\u001b[32mCalculated lineshift in 0.00s\u001b[0m\n",
      "\u001b[32mCalculated broadening HWHM in 0.00s\u001b[0m\n",
      "\u001b[32m> Calculating line broadening (725 lines: expect ~ 0.07s on 1 CPU)\u001b[0m\n",
      "\u001b[32m... Initialized vectors in 0.0s\u001b[0m\n",
      "\u001b[32m... Calculated Voigt profile (jit=True) in 0.0s\u001b[0m\n",
      "\u001b[32m... Initialized vectors in 0.0s\u001b[0m\n",
      "\u001b[32m... Get closest matching line & fraction in 0.0s\u001b[0m\n",
      "\u001b[32m... Aggregate center lines in 0.0s\u001b[0m\n",
      "\u001b[32m... Aggregate wing lines in 0.0s\u001b[0m\n",
      "\u001b[32mCalculated line broadening in 0.05s\u001b[0m\n",
      "\u001b[32mCalculated other spectral quantities in 0.05s\u001b[0m\n",
      "\u001b[32mSpectrum calculated in 0.13s (before object generation)\u001b[0m\n",
      "\u001b[32mGenerated Spectrum object in 0.02s\u001b[0m\n",
      "Spectrum calculated in 0.14s\n"
     ]
    },
    {
     "name": "stderr",
     "output_type": "stream",
     "text": [
      "/home/pipebomb/Desktop/radis/radis/misc/warning.py:302: MissingSelfBroadeningWarning: Self-broadening temperature coefficient Tdpsel not given in database: used Tdpair instead\n",
      "  warnings.warn(WarningType(message))\n"
     ]
    }
   ],
   "source": [
    "s2 = calc_spectrum(**conditions,\n",
    "                   optimization=None,\n",
    "                  )\n",
    "s2.name = 'None ({0:.1f}s)'.format(s2.conditions['calculation_time'])\n"
   ]
  },
  {
   "cell_type": "markdown",
   "metadata": {},
   "source": [
    "## Comparison of performance and accuracy of both methods"
   ]
  },
  {
   "cell_type": "code",
   "execution_count": 4,
   "metadata": {},
   "outputs": [
    {
     "data": {
      "image/png": "[encoded data removed]",
      "text/plain": [
       "<Figure size 640x480 with 2 Axes>"
      ]
     },
     "metadata": {},
     "output_type": "display_data"
    },
    {
     "data": {
      "text/plain": [
       "(<Figure size 640x480 with 2 Axes>,\n",
       " [<AxesSubplot:>, <AxesSubplot:xlabel='Wavenumber (cm⁻¹)'>])"
      ]
     },
     "execution_count": 4,
     "metadata": {},
     "output_type": "execute_result"
    }
   ],
   "source": [
    "from radis import plot_diff\n",
    "plot_diff(s1, s2, 'abscoeff')"
   ]
  },
  {
   "cell_type": "markdown",
   "metadata": {},
   "source": [
    "### R = broadening_cutoff  / wstep * N_lines / log(spectral range / wstep)"
   ]
  },
  {
   "cell_type": "markdown",
   "metadata": {},
   "source": [
    "### Loading Scaling Parameter"
   ]
  },
  {
   "cell_type": "code",
   "execution_count": 5,
   "metadata": {},
   "outputs": [],
   "source": [
    "# Wavenumber Range\n",
    "spectral_range = s1.conditions['wavenum_max_calc'] - s1.conditions['wavenum_min_calc']\n",
    "# Grid resolution\n",
    "wstep = s1.conditions['wstep']\n",
    "# Number of points on the spectral grid\n",
    "points = spectral_range/wstep\n",
    "# Broadening cutoff to calculate convolution over\n",
    "broadening_cutoff = s2.conditions['broadening_max_width']\n",
    "# Number of lines\n",
    "n_lines = s2.conditions['total_lines']\n"
   ]
  },
  {
   "cell_type": "markdown",
   "metadata": {},
   "source": [
    "DLM scales as for 'fft' broadening method - **spectral range / wstep * log(spectral range / wstep)**"
   ]
  },
  {
   "cell_type": "code",
   "execution_count": 6,
   "metadata": {},
   "outputs": [
    {
     "name": "stdout",
     "output_type": "stream",
     "text": [
      "5685249.671602007\n"
     ]
    }
   ],
   "source": [
    "DLM_Scale = points * math.log(points,10)\n",
    "print(DLM_Scale)"
   ]
  },
  {
   "cell_type": "markdown",
   "metadata": {},
   "source": [
    "Legacy Method Scales as - **broadening_cutoff * spectral range / wstep^2 (convolution) * N_lines**"
   ]
  },
  {
   "cell_type": "code",
   "execution_count": 7,
   "metadata": {},
   "outputs": [
    {
     "name": "stdout",
     "output_type": "stream",
     "text": [
      "22979963999979.375\n"
     ]
    }
   ],
   "source": [
    "Legacy_Scale = broadening_cutoff * spectral_range/math.pow(wstep,2) * n_lines\n",
    "print(Legacy_Scale)"
   ]
  },
  {
   "cell_type": "markdown",
   "metadata": {},
   "source": [
    "## **R formula**"
   ]
  },
  {
   "cell_type": "code",
   "execution_count": 8,
   "metadata": {},
   "outputs": [
    {
     "name": "stdout",
     "output_type": "stream",
     "text": [
      "4042032.509981925\n"
     ]
    }
   ],
   "source": [
    "R = Legacy_Scale/DLM_Scale\n",
    "print(R)"
   ]
  },
  {
   "cell_type": "markdown",
   "metadata": {},
   "source": [
    "## Inference\n",
    "As we can see, R = 4e6 and already we are seeing that Legacy method is outperforming LDM by a big margin (**around 700 times faster for the given conditions**). We can infer from this for a value of R = 4e6, we are in Legacy territory, therefore we can safely assume that the critical value at which we want to switch between legacy and LDM will be larger than current R value "
   ]
  }
 ],
 "metadata": {
  "kernelspec": {
   "display_name": "radis",
   "language": "python",
   "name": "radis"
  },
  "language_info": {
   "codemirror_mode": {
    "name": "ipython",
    "version": 3
   },
   "file_extension": ".py",
   "mimetype": "text/x-python",
   "name": "python",
   "nbconvert_exporter": "python",
   "pygments_lexer": "ipython3",
   "version": "3.6.13"
  }
 },
 "nbformat": 4,
 "nbformat_minor": 4
}
