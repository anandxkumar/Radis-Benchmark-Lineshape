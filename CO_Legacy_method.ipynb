{
  "nbformat": 4,
  "nbformat_minor": 0,
  "metadata": {
    "colab": {
      "name": "CO Legacy method.ipynb",
      "provenance": []
    },
    "kernelspec": {
      "name": "python3",
      "display_name": "Python 3"
    },
    "language_info": {
      "name": "python"
    }
  },
  "cells": [
    {
      "cell_type": "code",
      "metadata": {
        "id": "t8Ftcv6vEYcQ"
      },
      "source": [
        "!pip install radis"
      ],
      "execution_count": null,
      "outputs": []
    },
    {
      "cell_type": "markdown",
      "metadata": {
        "id": "OAuSWWmCKBar"
      },
      "source": [
        "**Loading Dependencies**"
      ]
    },
    {
      "cell_type": "code",
      "metadata": {
        "id": "aASJROeyE1EE"
      },
      "source": [
        "import matplotlib.pyplot as plt\n",
        "from radis import plot_diff, SpectrumFactory, get_residual\n",
        "from publib import set_style, fix_style\n",
        "import numpy as np"
      ],
      "execution_count": 2,
      "outputs": []
    },
    {
      "cell_type": "markdown",
      "metadata": {
        "id": "8h-cAlc2KIQH"
      },
      "source": [
        "**Setting up parameters**"
      ]
    },
    {
      "cell_type": "code",
      "metadata": {
        "id": "bVGSqNomEdzg"
      },
      "source": [
        "# Computation parameters\n",
        "wmin = 2000\n",
        "wmax = 10000\n",
        "dv = 0.005\n",
        "T = 3000.0 #K\n",
        "p = 0.1 #bar\n",
        "broadening_max_width=10 "
      ],
      "execution_count": 1,
      "outputs": []
    },
    {
      "cell_type": "markdown",
      "metadata": {
        "id": "Grb2S3utKI8n"
      },
      "source": [
        "**Defining Spectrum Factory Object**"
      ]
    },
    {
      "cell_type": "code",
      "metadata": {
        "id": "Isjq6ldoEvxZ"
      },
      "source": [
        "#%% Calculate reference\n",
        "sf = SpectrumFactory(wavenum_min=wmin, wavenum_max=wmax, \n",
        "                  pressure=p,\n",
        "                  wstep=dv,\n",
        "                  broadening_max_width=broadening_max_width, \n",
        "                  molecule=\"CO\",\n",
        "                  cutoff=0, # 1e-27,\n",
        "                  verbose=2,\n",
        "                  )"
      ],
      "execution_count": 7,
      "outputs": []
    },
    {
      "cell_type": "markdown",
      "metadata": {
        "id": "-k6VMGcyKN_E"
      },
      "source": [
        "**Downloading/Loading Database from hitran.**\n",
        "**If already downloaded then skip this** "
      ]
    },
    {
      "cell_type": "code",
      "metadata": {
        "id": "hp7ypBG8E5SC"
      },
      "source": [
        "sf.fetch_databank('hitemp',load_energies=False)\n"
      ],
      "execution_count": null,
      "outputs": []
    },
    {
      "cell_type": "markdown",
      "metadata": {
        "id": "YpI5OQIaKP1k"
      },
      "source": [
        "**Defining variabes to store spectrum**"
      ]
    },
    {
      "cell_type": "code",
      "metadata": {
        "id": "Yxv8vAjIE_Nv"
      },
      "source": [
        "#  Defining variabes to store spectrum\n",
        "spectra_default = {}\n",
        "Nlines_target = [1e1, 1e2, 1e3, 1e4, 1e5,1.1e5,1.2e5]  # Number of lines in the dataframe df0\n",
        "Nlines = []\n"
      ],
      "execution_count": 9,
      "outputs": []
    },
    {
      "cell_type": "markdown",
      "metadata": {
        "id": "Hk2tnQ00KSyJ"
      },
      "source": [
        "**Function to take complement of an array of indexes in a range**"
      ]
    },
    {
      "cell_type": "code",
      "metadata": {
        "id": "0bcW9Qp9FCkZ"
      },
      "source": [
        "# Finds complement of the lines to drop\n",
        "def find_missing(lst, N):\n",
        "    start = 0\n",
        "    end = N-1\n",
        "    return sorted(set(range(start, end + 1)).difference(lst))"
      ],
      "execution_count": 5,
      "outputs": []
    },
    {
      "cell_type": "markdown",
      "metadata": {
        "id": "qMzJ_ht9KovJ"
      },
      "source": [
        "**Calculating time for Legacy method for different number of lines and see what is the bottleneck step (_calc_lineshape or _apply_lineshape)**"
      ]
    },
    {
      "cell_type": "code",
      "metadata": {
        "colab": {
          "base_uri": "https://localhost:8080/"
        },
        "id": "7RoXxs8VFEWq",
        "outputId": "459d7248-5a21-49ca-8abf-dd0997d51814"
      },
      "source": [
        "for Ntarget in Nlines_target:\n",
        "    \n",
        "    # Load HITEMP database for this species/range\n",
        "    sf.load_databank('HITEMP-CO',load_energies=False)\n",
        "\n",
        "    # Reduce number of lines to approximately Nlines:\n",
        "    rows = np.arange(0,len(sf.df0),max(1,int(len(sf.df0)//Ntarget)))\n",
        "    # Complements the array\n",
        "    rows = find_missing(rows,len(sf.df0))\n",
        "    rows = sf.df0.index[rows]\n",
        "    # Drops the array to use\n",
        "    sf.df0.drop(rows, inplace=True)\n",
        "    #sf.df0 = sf.df0[::max(1,int(len(sf.df0)//Ntarget))]\n",
        "    N = len(sf.df0)\n",
        "    Nlines.append(N)\n",
        "    \n",
        "    #%% Calculate normal\n",
        "\n",
        "    sf.params['optimization'] = None\n",
        "    sf.params['broadening_method'] = 'voigt'\n",
        "    s_none = sf.eq_spectrum(T)\n",
        "    s_none.name = 'Default ({0:.1f}s)'.format(s_none.conditions['calculation_time'])\n",
        "    spectra_default[N] = s_none"
      ],
      "execution_count": 10,
      "outputs": [
        {
          "output_type": "stream",
          "text": [
            "Using database: HITEMP-CO\n",
            "'HITEMP-CO':\n",
            "{'info': 'HITEMP CO lines (2.2-22148.3 cm-1) with TIPS-2017 (through HAPI) for partition functions and RADIS spectroscopic constants for rovibrational energies (nonequilibrium)', 'path': ['/root/.radisdb/CO-05_HITEMP2019.h5'], 'format': 'hitemp-radisdb', 'parfuncfmt': 'hapi', 'levelsfmt': 'radis', 'download_url': 'https://hitran.org/hitemp/data/bzip2format/05_HITEMP2019.par.bz2', 'download_date': '10 Apr 2021', 'wavenumber_min': '2.248764', 'wavenumber_max': '22148.273542'} \n",
            "\n",
            "\n",
            "\n",
            "\u001b[32mLoading Line databank\u001b[0m\n",
            "\u001b[32m... Fetching molecular parameters for all transitions\u001b[0m\n",
            "\u001b[32m... Fetched molecular params in 0.05s\u001b[0m\n",
            "\u001b[32mLoaded databank in 2.8s (374,884 lines)\u001b[0m\n",
            "\u001b[32mHAPI version: 1.1.2.0\u001b[0m\n",
            "\u001b[32mHAPI version: 1.1.2.0\u001b[0m\n",
            "\u001b[32mHAPI version: 1.1.2.0\u001b[0m\n",
            "\u001b[32mHAPI version: 1.1.2.0\u001b[0m\n",
            "\u001b[32mHAPI version: 1.1.2.0\u001b[0m\n",
            "\u001b[32mHAPI version: 1.1.2.0\u001b[0m\n",
            "Calculating Equilibrium Spectrum\n",
            "Physical Conditions\n",
            "----------------------------------------\n",
            "   Tgas                 3000.0 K\n",
            "   Trot                 3000.0 K\n",
            "   Tvib                 3000.0 K\n",
            "   isotope              1,2,3,4,5,6\n",
            "   mole_fraction        1\n",
            "   molecule             CO\n",
            "   path_length          1 cm\n",
            "   pressure_mbar        100.0 mbar\n",
            "   rot_distribution     boltzmann\n",
            "   self_absorption      True\n",
            "   state                X\n",
            "   vib_distribution     boltzmann\n",
            "   wavenum_max          10000.0000 cm-1\n",
            "   wavenum_min          2000.0000 cm-1\n",
            "Computation Parameters\n",
            "----------------------------------------\n",
            "   Tref                 296 K\n",
            "   broadening_max_width  10 cm-1\n",
            "   broadening_method    voigt\n",
            "   cutoff               0 cm-1/(#.cm-2)\n",
            "   dbformat             hitemp-radisdb\n",
            "   dbpath               /root/.radisdb/CO-05_HITEMP2019.h5\n",
            "   dlm_log_pG           0.1375350788016573\n",
            "   dlm_log_pL           0.20180288881201608\n",
            "   folding_thresh       1e-06\n",
            "   include_neighbouring_lines  True\n",
            "   levelsfmt            radis\n",
            "   parfuncfmt           hapi\n",
            "   pseudo_continuum_threshold  0\n",
            "   wavenum_max_calc     10005.0000 cm-1\n",
            "   wavenum_min_calc     1995.0000 cm-1\n",
            "   waveunit             cm-1\n",
            "   wstep                0.005 cm-1\n",
            "   zero_padding         -1\n",
            "Information\n",
            "----------------------------------------\n",
            "   db_use_cached        True\n",
            "   export_lines         False\n",
            "   load_energies        True\n",
            "   lvl_use_cached       True\n",
            "   total_lines          374884\n",
            "   warning_broadening_threshold  0.01\n",
            "   warning_linestrength_cutoff  0.01\n",
            "----------------------------------------\n",
            "\u001b[32mScaling equilibrium linestrength\u001b[0m\n",
            "\u001b[32mScaled equilibrium linestrength in 0.01s\u001b[0m\n",
            "\u001b[32mCalculated lineshift in 0.00s\u001b[0m\n",
            "\u001b[32mCalculated broadening HWHM in 0.01s\u001b[0m\n",
            "\u001b[32m> Calculating line broadening (11 lines: expect ~ 0.00s on 1 CPU)\u001b[0m\n",
            "\u001b[32mCalculated line broadening in 0.03s\u001b[0m\n"
          ],
          "name": "stdout"
        },
        {
          "output_type": "stream",
          "text": [
            "/usr/local/lib/python3.7/dist-packages/radis/misc/warning.py:302: MissingSelfBroadeningWarning: Self-broadening temperature coefficient Tdpsel not given in database: used Tdpair instead\n",
            "  warnings.warn(WarningType(message))\n"
          ],
          "name": "stderr"
        },
        {
          "output_type": "stream",
          "text": [
            "\u001b[32mCalculated other spectral quantities in 0.22s\u001b[0m\n",
            "\u001b[32mSpectrum calculated in 0.29s (before object generation)\u001b[0m\n",
            "\u001b[32mGenerated Spectrum object in 0.14s\u001b[0m\n",
            "Spectrum calculated in 0.43s\n",
            "Using database: HITEMP-CO\n",
            "'HITEMP-CO':\n",
            "{'info': 'HITEMP CO lines (2.2-22148.3 cm-1) with TIPS-2017 (through HAPI) for partition functions and RADIS spectroscopic constants for rovibrational energies (nonequilibrium)', 'path': ['/root/.radisdb/CO-05_HITEMP2019.h5'], 'format': 'hitemp-radisdb', 'parfuncfmt': 'hapi', 'levelsfmt': 'radis', 'download_url': 'https://hitran.org/hitemp/data/bzip2format/05_HITEMP2019.par.bz2', 'download_date': '10 Apr 2021', 'wavenumber_min': '2.248764', 'wavenumber_max': '22148.273542'} \n",
            "\n",
            "\n",
            "\n",
            "\u001b[32mLoading Line databank\u001b[0m\n",
            "\u001b[32m... Fetching molecular parameters for all transitions\u001b[0m\n",
            "\u001b[32m... Fetched molecular params in 0.01s\u001b[0m\n",
            "\u001b[32mLoaded databank in 3.2s (374,884 lines)\u001b[0m\n",
            "\u001b[32mHAPI version: 1.1.2.0\u001b[0m\n",
            "\u001b[32mHAPI version: 1.1.2.0\u001b[0m\n",
            "\u001b[32mHAPI version: 1.1.2.0\u001b[0m\n",
            "\u001b[32mHAPI version: 1.1.2.0\u001b[0m\n",
            "\u001b[32mHAPI version: 1.1.2.0\u001b[0m\n",
            "\u001b[32mHAPI version: 1.1.2.0\u001b[0m\n",
            "Calculating Equilibrium Spectrum\n",
            "Physical Conditions\n",
            "----------------------------------------\n",
            "   Tgas                 3000.0 K\n",
            "   Trot                 3000.0 K\n",
            "   Tvib                 3000.0 K\n",
            "   isotope              1,2,3,4,5,6\n",
            "   mole_fraction        1\n",
            "   molecule             CO\n",
            "   path_length          1 cm\n",
            "   pressure_mbar        100.0 mbar\n",
            "   rot_distribution     boltzmann\n",
            "   self_absorption      True\n",
            "   state                X\n",
            "   vib_distribution     boltzmann\n",
            "   wavenum_max          10000.0000 cm-1\n",
            "   wavenum_min          2000.0000 cm-1\n",
            "Computation Parameters\n",
            "----------------------------------------\n",
            "   Tref                 296 K\n",
            "   broadening_max_width  10 cm-1\n",
            "   broadening_method    voigt\n",
            "   cutoff               0 cm-1/(#.cm-2)\n",
            "   dbformat             hitemp-radisdb\n",
            "   dbpath               /root/.radisdb/CO-05_HITEMP2019.h5\n",
            "   dlm_log_pG           0.1375350788016573\n",
            "   dlm_log_pL           0.20180288881201608\n",
            "   folding_thresh       1e-06\n",
            "   include_neighbouring_lines  True\n",
            "   levelsfmt            radis\n",
            "   parfuncfmt           hapi\n",
            "   pseudo_continuum_threshold  0\n",
            "   wavenum_max_calc     10005.0000 cm-1\n",
            "   wavenum_min_calc     1995.0000 cm-1\n",
            "   waveunit             cm-1\n",
            "   wstep                0.005 cm-1\n",
            "   zero_padding         1602001\n",
            "Information\n",
            "----------------------------------------\n",
            "   db_use_cached        True\n",
            "   export_lines         False\n",
            "   load_energies        True\n",
            "   lvl_use_cached       True\n",
            "   total_lines          374884\n",
            "   warning_broadening_threshold  0.01\n",
            "   warning_linestrength_cutoff  0.01\n",
            "----------------------------------------\n",
            "\u001b[32mScaling equilibrium linestrength\u001b[0m\n",
            "\u001b[32mScaled equilibrium linestrength in 0.01s\u001b[0m\n",
            "\u001b[32mCalculated lineshift in 0.00s\u001b[0m\n",
            "\u001b[32mCalculated broadening HWHM in 0.01s\u001b[0m\n",
            "\u001b[32m> Calculating line broadening (101 lines: expect ~ 0.02s on 1 CPU)\u001b[0m\n",
            "\u001b[32mCalculated line broadening in 0.08s\u001b[0m\n"
          ],
          "name": "stdout"
        },
        {
          "output_type": "stream",
          "text": [
            "/usr/local/lib/python3.7/dist-packages/radis/misc/warning.py:302: MissingSelfBroadeningWarning: Self-broadening temperature coefficient Tdpsel not given in database: used Tdpair instead\n",
            "  warnings.warn(WarningType(message))\n"
          ],
          "name": "stderr"
        },
        {
          "output_type": "stream",
          "text": [
            "\u001b[32mCalculated other spectral quantities in 0.20s\u001b[0m\n",
            "\u001b[32mSpectrum calculated in 0.32s (before object generation)\u001b[0m\n",
            "\u001b[32mGenerated Spectrum object in 0.14s\u001b[0m\n",
            "Spectrum calculated in 0.46s\n",
            "Using database: HITEMP-CO\n",
            "'HITEMP-CO':\n",
            "{'info': 'HITEMP CO lines (2.2-22148.3 cm-1) with TIPS-2017 (through HAPI) for partition functions and RADIS spectroscopic constants for rovibrational energies (nonequilibrium)', 'path': ['/root/.radisdb/CO-05_HITEMP2019.h5'], 'format': 'hitemp-radisdb', 'parfuncfmt': 'hapi', 'levelsfmt': 'radis', 'download_url': 'https://hitran.org/hitemp/data/bzip2format/05_HITEMP2019.par.bz2', 'download_date': '10 Apr 2021', 'wavenumber_min': '2.248764', 'wavenumber_max': '22148.273542'} \n",
            "\n",
            "\n",
            "\n",
            "\u001b[32mLoading Line databank\u001b[0m\n",
            "\u001b[32m... Fetching molecular parameters for all transitions\u001b[0m\n",
            "\u001b[32m... Fetched molecular params in 0.01s\u001b[0m\n",
            "\u001b[32mLoaded databank in 3.2s (374,884 lines)\u001b[0m\n",
            "\u001b[32mHAPI version: 1.1.2.0\u001b[0m\n",
            "\u001b[32mHAPI version: 1.1.2.0\u001b[0m\n",
            "\u001b[32mHAPI version: 1.1.2.0\u001b[0m\n",
            "\u001b[32mHAPI version: 1.1.2.0\u001b[0m\n",
            "\u001b[32mHAPI version: 1.1.2.0\u001b[0m\n",
            "\u001b[32mHAPI version: 1.1.2.0\u001b[0m\n",
            "Calculating Equilibrium Spectrum\n",
            "Physical Conditions\n",
            "----------------------------------------\n",
            "   Tgas                 3000.0 K\n",
            "   Trot                 3000.0 K\n",
            "   Tvib                 3000.0 K\n",
            "   isotope              1,2,3,4,5,6\n",
            "   mole_fraction        1\n",
            "   molecule             CO\n",
            "   path_length          1 cm\n",
            "   pressure_mbar        100.0 mbar\n",
            "   rot_distribution     boltzmann\n",
            "   self_absorption      True\n",
            "   state                X\n",
            "   vib_distribution     boltzmann\n",
            "   wavenum_max          10000.0000 cm-1\n",
            "   wavenum_min          2000.0000 cm-1\n",
            "Computation Parameters\n",
            "----------------------------------------\n",
            "   Tref                 296 K\n",
            "   broadening_max_width  10 cm-1\n",
            "   broadening_method    voigt\n",
            "   cutoff               0 cm-1/(#.cm-2)\n",
            "   dbformat             hitemp-radisdb\n",
            "   dbpath               /root/.radisdb/CO-05_HITEMP2019.h5\n",
            "   dlm_log_pG           0.1375350788016573\n",
            "   dlm_log_pL           0.20180288881201608\n",
            "   folding_thresh       1e-06\n",
            "   include_neighbouring_lines  True\n",
            "   levelsfmt            radis\n",
            "   parfuncfmt           hapi\n",
            "   pseudo_continuum_threshold  0\n",
            "   wavenum_max_calc     10005.0000 cm-1\n",
            "   wavenum_min_calc     1995.0000 cm-1\n",
            "   waveunit             cm-1\n",
            "   wstep                0.005 cm-1\n",
            "   zero_padding         1602001\n",
            "Information\n",
            "----------------------------------------\n",
            "   db_use_cached        True\n",
            "   export_lines         False\n",
            "   load_energies        True\n",
            "   lvl_use_cached       True\n",
            "   total_lines          374884\n",
            "   warning_broadening_threshold  0.01\n",
            "   warning_linestrength_cutoff  0.01\n",
            "----------------------------------------\n",
            "\u001b[32mScaling equilibrium linestrength\u001b[0m\n",
            "\u001b[32mScaled equilibrium linestrength in 0.01s\u001b[0m\n",
            "\u001b[32mCalculated lineshift in 0.00s\u001b[0m\n",
            "\u001b[32mCalculated broadening HWHM in 0.01s\u001b[0m\n",
            "\u001b[32m> Calculating line broadening (1003 lines: expect ~ 0.20s on 1 CPU)\u001b[0m\n"
          ],
          "name": "stdout"
        },
        {
          "output_type": "stream",
          "text": [
            "/usr/local/lib/python3.7/dist-packages/radis/misc/warning.py:302: MissingSelfBroadeningWarning: Self-broadening temperature coefficient Tdpsel not given in database: used Tdpair instead\n",
            "  warnings.warn(WarningType(message))\n"
          ],
          "name": "stderr"
        },
        {
          "output_type": "stream",
          "text": [
            "\u001b[32mCalculated line broadening in 0.36s\u001b[0m\n",
            "\u001b[32mCalculated other spectral quantities in 0.21s\u001b[0m\n",
            "\u001b[32mSpectrum calculated in 0.65s (before object generation)\u001b[0m\n",
            "\u001b[32mGenerated Spectrum object in 0.15s\u001b[0m\n",
            "Spectrum calculated in 0.79s\n",
            "Using database: HITEMP-CO\n",
            "'HITEMP-CO':\n",
            "{'info': 'HITEMP CO lines (2.2-22148.3 cm-1) with TIPS-2017 (through HAPI) for partition functions and RADIS spectroscopic constants for rovibrational energies (nonequilibrium)', 'path': ['/root/.radisdb/CO-05_HITEMP2019.h5'], 'format': 'hitemp-radisdb', 'parfuncfmt': 'hapi', 'levelsfmt': 'radis', 'download_url': 'https://hitran.org/hitemp/data/bzip2format/05_HITEMP2019.par.bz2', 'download_date': '10 Apr 2021', 'wavenumber_min': '2.248764', 'wavenumber_max': '22148.273542'} \n",
            "\n",
            "\n",
            "\n",
            "\u001b[32mLoading Line databank\u001b[0m\n",
            "\u001b[32m... Fetching molecular parameters for all transitions\u001b[0m\n",
            "\u001b[32m... Fetched molecular params in 0.01s\u001b[0m\n",
            "\u001b[32mLoaded databank in 3.2s (374,884 lines)\u001b[0m\n",
            "\u001b[32mHAPI version: 1.1.2.0\u001b[0m\n",
            "\u001b[32mHAPI version: 1.1.2.0\u001b[0m\n",
            "\u001b[32mHAPI version: 1.1.2.0\u001b[0m\n",
            "\u001b[32mHAPI version: 1.1.2.0\u001b[0m\n",
            "\u001b[32mHAPI version: 1.1.2.0\u001b[0m\n",
            "\u001b[32mHAPI version: 1.1.2.0\u001b[0m\n",
            "Calculating Equilibrium Spectrum\n",
            "Physical Conditions\n",
            "----------------------------------------\n",
            "   Tgas                 3000.0 K\n",
            "   Trot                 3000.0 K\n",
            "   Tvib                 3000.0 K\n",
            "   isotope              1,2,3,4,5,6\n",
            "   mole_fraction        1\n",
            "   molecule             CO\n",
            "   path_length          1 cm\n",
            "   pressure_mbar        100.0 mbar\n",
            "   rot_distribution     boltzmann\n",
            "   self_absorption      True\n",
            "   state                X\n",
            "   vib_distribution     boltzmann\n",
            "   wavenum_max          10000.0000 cm-1\n",
            "   wavenum_min          2000.0000 cm-1\n",
            "Computation Parameters\n",
            "----------------------------------------\n",
            "   Tref                 296 K\n",
            "   broadening_max_width  10 cm-1\n",
            "   broadening_method    voigt\n",
            "   cutoff               0 cm-1/(#.cm-2)\n",
            "   dbformat             hitemp-radisdb\n",
            "   dbpath               /root/.radisdb/CO-05_HITEMP2019.h5\n",
            "   dlm_log_pG           0.1375350788016573\n",
            "   dlm_log_pL           0.20180288881201608\n",
            "   folding_thresh       1e-06\n",
            "   include_neighbouring_lines  True\n",
            "   levelsfmt            radis\n",
            "   parfuncfmt           hapi\n",
            "   pseudo_continuum_threshold  0\n",
            "   wavenum_max_calc     10005.0000 cm-1\n",
            "   wavenum_min_calc     1995.0000 cm-1\n",
            "   waveunit             cm-1\n",
            "   wstep                0.005 cm-1\n",
            "   zero_padding         1602001\n",
            "Information\n",
            "----------------------------------------\n",
            "   db_use_cached        True\n",
            "   export_lines         False\n",
            "   load_energies        True\n",
            "   lvl_use_cached       True\n",
            "   total_lines          374884\n",
            "   warning_broadening_threshold  0.01\n",
            "   warning_linestrength_cutoff  0.01\n",
            "----------------------------------------\n",
            "\u001b[32mScaling equilibrium linestrength\u001b[0m\n",
            "\u001b[32mScaled equilibrium linestrength in 0.04s\u001b[0m\n",
            "\u001b[32mCalculated lineshift in 0.00s\u001b[0m\n",
            "\u001b[32mCalculated broadening HWHM in 0.03s\u001b[0m\n",
            "\u001b[32m> Calculating line broadening (10132 lines: expect ~ 2.03s on 1 CPU)\u001b[0m\n"
          ],
          "name": "stdout"
        },
        {
          "output_type": "stream",
          "text": [
            "/usr/local/lib/python3.7/dist-packages/radis/misc/warning.py:302: MissingSelfBroadeningWarning: Self-broadening temperature coefficient Tdpsel not given in database: used Tdpair instead\n",
            "  warnings.warn(WarningType(message))\n"
          ],
          "name": "stderr"
        },
        {
          "output_type": "stream",
          "text": [
            "\u001b[32mCalculated line broadening in 3.11s\u001b[0m\n",
            "\u001b[32mCalculated other spectral quantities in 0.22s\u001b[0m\n",
            "\u001b[32mSpectrum calculated in 3.44s (before object generation)\u001b[0m\n",
            "\u001b[32mGenerated Spectrum object in 0.15s\u001b[0m\n",
            "Spectrum calculated in 3.59s\n",
            "Using database: HITEMP-CO\n",
            "'HITEMP-CO':\n",
            "{'info': 'HITEMP CO lines (2.2-22148.3 cm-1) with TIPS-2017 (through HAPI) for partition functions and RADIS spectroscopic constants for rovibrational energies (nonequilibrium)', 'path': ['/root/.radisdb/CO-05_HITEMP2019.h5'], 'format': 'hitemp-radisdb', 'parfuncfmt': 'hapi', 'levelsfmt': 'radis', 'download_url': 'https://hitran.org/hitemp/data/bzip2format/05_HITEMP2019.par.bz2', 'download_date': '10 Apr 2021', 'wavenumber_min': '2.248764', 'wavenumber_max': '22148.273542'} \n",
            "\n",
            "\n",
            "\n",
            "\u001b[32mLoading Line databank\u001b[0m\n",
            "\u001b[32m... Fetching molecular parameters for all transitions\u001b[0m\n",
            "\u001b[32m... Fetched molecular params in 0.01s\u001b[0m\n",
            "\u001b[32mLoaded databank in 3.2s (374,884 lines)\u001b[0m\n",
            "\u001b[32mHAPI version: 1.1.2.0\u001b[0m\n",
            "\u001b[32mHAPI version: 1.1.2.0\u001b[0m\n",
            "\u001b[32mHAPI version: 1.1.2.0\u001b[0m\n",
            "\u001b[32mHAPI version: 1.1.2.0\u001b[0m\n",
            "\u001b[32mHAPI version: 1.1.2.0\u001b[0m\n",
            "\u001b[32mHAPI version: 1.1.2.0\u001b[0m\n",
            "Calculating Equilibrium Spectrum\n",
            "Physical Conditions\n",
            "----------------------------------------\n",
            "   Tgas                 3000.0 K\n",
            "   Trot                 3000.0 K\n",
            "   Tvib                 3000.0 K\n",
            "   isotope              1,2,3,4,5,6\n",
            "   mole_fraction        1\n",
            "   molecule             CO\n",
            "   path_length          1 cm\n",
            "   pressure_mbar        100.0 mbar\n",
            "   rot_distribution     boltzmann\n",
            "   self_absorption      True\n",
            "   state                X\n",
            "   vib_distribution     boltzmann\n",
            "   wavenum_max          10000.0000 cm-1\n",
            "   wavenum_min          2000.0000 cm-1\n",
            "Computation Parameters\n",
            "----------------------------------------\n",
            "   Tref                 296 K\n",
            "   broadening_max_width  10 cm-1\n",
            "   broadening_method    voigt\n",
            "   cutoff               0 cm-1/(#.cm-2)\n",
            "   dbformat             hitemp-radisdb\n",
            "   dbpath               /root/.radisdb/CO-05_HITEMP2019.h5\n",
            "   dlm_log_pG           0.1375350788016573\n",
            "   dlm_log_pL           0.20180288881201608\n",
            "   folding_thresh       1e-06\n",
            "   include_neighbouring_lines  True\n",
            "   levelsfmt            radis\n",
            "   parfuncfmt           hapi\n",
            "   pseudo_continuum_threshold  0\n",
            "   wavenum_max_calc     10005.0000 cm-1\n",
            "   wavenum_min_calc     1995.0000 cm-1\n",
            "   waveunit             cm-1\n",
            "   wstep                0.005 cm-1\n",
            "   zero_padding         1602001\n",
            "Information\n",
            "----------------------------------------\n",
            "   db_use_cached        True\n",
            "   export_lines         False\n",
            "   load_energies        True\n",
            "   lvl_use_cached       True\n",
            "   total_lines          374884\n",
            "   warning_broadening_threshold  0.01\n",
            "   warning_linestrength_cutoff  0.01\n",
            "----------------------------------------\n",
            "\u001b[32mScaling equilibrium linestrength\u001b[0m\n",
            "\u001b[32mScaled equilibrium linestrength in 0.04s\u001b[0m\n",
            "\u001b[32mCalculated lineshift in 0.00s\u001b[0m\n"
          ],
          "name": "stdout"
        },
        {
          "output_type": "stream",
          "text": [
            "/usr/local/lib/python3.7/dist-packages/radis/misc/warning.py:302: MissingSelfBroadeningWarning: Self-broadening temperature coefficient Tdpsel not given in database: used Tdpair instead\n",
            "  warnings.warn(WarningType(message))\n",
            "/usr/local/lib/python3.7/dist-packages/radis/misc/warning.py:302: AccuracyWarning: Some lines are too narrow (FWHM ~ 0.015 cm⁻¹) for the current spectral grid (wstep=0.005). Please reduce wstep to below 0.005 cm⁻¹. You can also ignore by setting `warnings={'AccuracyWarning':'ignore'}` (if you know what you're doing!)\n",
            "  warnings.warn(WarningType(message))\n"
          ],
          "name": "stderr"
        },
        {
          "output_type": "stream",
          "text": [
            "\u001b[32mCalculated broadening HWHM in 0.05s\u001b[0m\n",
            "\u001b[32m> Calculating line broadening (124962 lines: expect ~ 25.00s on 1 CPU)\u001b[0m\n",
            "\u001b[32mCalculated line broadening in 38.69s\u001b[0m\n",
            "\u001b[32mCalculated other spectral quantities in 0.22s\u001b[0m\n",
            "\u001b[32mSpectrum calculated in 39.16s (before object generation)\u001b[0m\n",
            "\u001b[32mGenerated Spectrum object in 0.16s\u001b[0m\n",
            "Spectrum calculated in 39.32s\n",
            "Using database: HITEMP-CO\n",
            "'HITEMP-CO':\n",
            "{'info': 'HITEMP CO lines (2.2-22148.3 cm-1) with TIPS-2017 (through HAPI) for partition functions and RADIS spectroscopic constants for rovibrational energies (nonequilibrium)', 'path': ['/root/.radisdb/CO-05_HITEMP2019.h5'], 'format': 'hitemp-radisdb', 'parfuncfmt': 'hapi', 'levelsfmt': 'radis', 'download_url': 'https://hitran.org/hitemp/data/bzip2format/05_HITEMP2019.par.bz2', 'download_date': '10 Apr 2021', 'wavenumber_min': '2.248764', 'wavenumber_max': '22148.273542'} \n",
            "\n",
            "\n",
            "\n",
            "\u001b[32mLoading Line databank\u001b[0m\n",
            "\u001b[32m... Fetching molecular parameters for all transitions\u001b[0m\n",
            "\u001b[32m... Fetched molecular params in 0.01s\u001b[0m\n",
            "\u001b[32mLoaded databank in 3.3s (374,884 lines)\u001b[0m\n",
            "\u001b[32mHAPI version: 1.1.2.0\u001b[0m\n",
            "\u001b[32mHAPI version: 1.1.2.0\u001b[0m\n",
            "\u001b[32mHAPI version: 1.1.2.0\u001b[0m\n",
            "\u001b[32mHAPI version: 1.1.2.0\u001b[0m\n",
            "\u001b[32mHAPI version: 1.1.2.0\u001b[0m\n",
            "\u001b[32mHAPI version: 1.1.2.0\u001b[0m\n",
            "Calculating Equilibrium Spectrum\n",
            "Physical Conditions\n",
            "----------------------------------------\n",
            "   Tgas                 3000.0 K\n",
            "   Trot                 3000.0 K\n",
            "   Tvib                 3000.0 K\n",
            "   isotope              1,2,3,4,5,6\n",
            "   mole_fraction        1\n",
            "   molecule             CO\n",
            "   path_length          1 cm\n",
            "   pressure_mbar        100.0 mbar\n",
            "   rot_distribution     boltzmann\n",
            "   self_absorption      True\n",
            "   state                X\n",
            "   vib_distribution     boltzmann\n",
            "   wavenum_max          10000.0000 cm-1\n",
            "   wavenum_min          2000.0000 cm-1\n",
            "Computation Parameters\n",
            "----------------------------------------\n",
            "   Tref                 296 K\n",
            "   broadening_max_width  10 cm-1\n",
            "   broadening_method    voigt\n",
            "   cutoff               0 cm-1/(#.cm-2)\n",
            "   dbformat             hitemp-radisdb\n",
            "   dbpath               /root/.radisdb/CO-05_HITEMP2019.h5\n",
            "   dlm_log_pG           0.1375350788016573\n",
            "   dlm_log_pL           0.20180288881201608\n",
            "   folding_thresh       1e-06\n",
            "   include_neighbouring_lines  True\n",
            "   levelsfmt            radis\n",
            "   parfuncfmt           hapi\n",
            "   pseudo_continuum_threshold  0\n",
            "   wavenum_max_calc     10005.0000 cm-1\n",
            "   wavenum_min_calc     1995.0000 cm-1\n",
            "   waveunit             cm-1\n",
            "   wstep                0.005 cm-1\n",
            "   zero_padding         1602001\n",
            "Information\n",
            "----------------------------------------\n",
            "   db_use_cached        True\n",
            "   export_lines         False\n",
            "   load_energies        True\n",
            "   lvl_use_cached       True\n",
            "   total_lines          374884\n",
            "   warning_broadening_threshold  0.01\n",
            "   warning_linestrength_cutoff  0.01\n",
            "----------------------------------------\n",
            "\u001b[32mScaling equilibrium linestrength\u001b[0m\n",
            "\u001b[32mScaled equilibrium linestrength in 0.04s\u001b[0m\n",
            "\u001b[32mCalculated lineshift in 0.00s\u001b[0m\n",
            "\u001b[32mCalculated broadening HWHM in 0.04s\u001b[0m\n",
            "\u001b[32m> Calculating line broadening (124962 lines: expect ~ 25.00s on 1 CPU)\u001b[0m\n"
          ],
          "name": "stdout"
        },
        {
          "output_type": "stream",
          "text": [
            "/usr/local/lib/python3.7/dist-packages/radis/misc/warning.py:302: MissingSelfBroadeningWarning: Self-broadening temperature coefficient Tdpsel not given in database: used Tdpair instead\n",
            "  warnings.warn(WarningType(message))\n",
            "/usr/local/lib/python3.7/dist-packages/radis/misc/warning.py:302: AccuracyWarning: Some lines are too narrow (FWHM ~ 0.015 cm⁻¹) for the current spectral grid (wstep=0.005). Please reduce wstep to below 0.005 cm⁻¹. You can also ignore by setting `warnings={'AccuracyWarning':'ignore'}` (if you know what you're doing!)\n",
            "  warnings.warn(WarningType(message))\n"
          ],
          "name": "stderr"
        },
        {
          "output_type": "stream",
          "text": [
            "\u001b[32mCalculated line broadening in 34.81s\u001b[0m\n",
            "\u001b[32mCalculated other spectral quantities in 0.23s\u001b[0m\n",
            "\u001b[32mSpectrum calculated in 35.31s (before object generation)\u001b[0m\n",
            "\u001b[32mGenerated Spectrum object in 0.16s\u001b[0m\n",
            "Spectrum calculated in 35.47s\n",
            "Using database: HITEMP-CO\n",
            "'HITEMP-CO':\n",
            "{'info': 'HITEMP CO lines (2.2-22148.3 cm-1) with TIPS-2017 (through HAPI) for partition functions and RADIS spectroscopic constants for rovibrational energies (nonequilibrium)', 'path': ['/root/.radisdb/CO-05_HITEMP2019.h5'], 'format': 'hitemp-radisdb', 'parfuncfmt': 'hapi', 'levelsfmt': 'radis', 'download_url': 'https://hitran.org/hitemp/data/bzip2format/05_HITEMP2019.par.bz2', 'download_date': '10 Apr 2021', 'wavenumber_min': '2.248764', 'wavenumber_max': '22148.273542'} \n",
            "\n",
            "\n",
            "\n",
            "\u001b[32mLoading Line databank\u001b[0m\n",
            "\u001b[32m... Fetching molecular parameters for all transitions\u001b[0m\n",
            "\u001b[32m... Fetched molecular params in 0.01s\u001b[0m\n",
            "\u001b[32mLoaded databank in 3.2s (374,884 lines)\u001b[0m\n",
            "\u001b[32mHAPI version: 1.1.2.0\u001b[0m\n",
            "\u001b[32mHAPI version: 1.1.2.0\u001b[0m\n",
            "\u001b[32mHAPI version: 1.1.2.0\u001b[0m\n",
            "\u001b[32mHAPI version: 1.1.2.0\u001b[0m\n",
            "\u001b[32mHAPI version: 1.1.2.0\u001b[0m\n",
            "\u001b[32mHAPI version: 1.1.2.0\u001b[0m\n",
            "Calculating Equilibrium Spectrum\n",
            "Physical Conditions\n",
            "----------------------------------------\n",
            "   Tgas                 3000.0 K\n",
            "   Trot                 3000.0 K\n",
            "   Tvib                 3000.0 K\n",
            "   isotope              1,2,3,4,5,6\n",
            "   mole_fraction        1\n",
            "   molecule             CO\n",
            "   path_length          1 cm\n",
            "   pressure_mbar        100.0 mbar\n",
            "   rot_distribution     boltzmann\n",
            "   self_absorption      True\n",
            "   state                X\n",
            "   vib_distribution     boltzmann\n",
            "   wavenum_max          10000.0000 cm-1\n",
            "   wavenum_min          2000.0000 cm-1\n",
            "Computation Parameters\n",
            "----------------------------------------\n",
            "   Tref                 296 K\n",
            "   broadening_max_width  10 cm-1\n",
            "   broadening_method    voigt\n",
            "   cutoff               0 cm-1/(#.cm-2)\n",
            "   dbformat             hitemp-radisdb\n",
            "   dbpath               /root/.radisdb/CO-05_HITEMP2019.h5\n",
            "   dlm_log_pG           0.1375350788016573\n",
            "   dlm_log_pL           0.20180288881201608\n",
            "   folding_thresh       1e-06\n",
            "   include_neighbouring_lines  True\n",
            "   levelsfmt            radis\n",
            "   parfuncfmt           hapi\n",
            "   pseudo_continuum_threshold  0\n",
            "   wavenum_max_calc     10005.0000 cm-1\n",
            "   wavenum_min_calc     1995.0000 cm-1\n",
            "   waveunit             cm-1\n",
            "   wstep                0.005 cm-1\n",
            "   zero_padding         1602001\n",
            "Information\n",
            "----------------------------------------\n",
            "   db_use_cached        True\n",
            "   export_lines         False\n",
            "   load_energies        True\n",
            "   lvl_use_cached       True\n",
            "   total_lines          374884\n",
            "   warning_broadening_threshold  0.01\n",
            "   warning_linestrength_cutoff  0.01\n",
            "----------------------------------------\n",
            "\u001b[32mScaling equilibrium linestrength\u001b[0m\n",
            "\u001b[32mScaled equilibrium linestrength in 0.04s\u001b[0m\n",
            "\u001b[32mCalculated lineshift in 0.01s\u001b[0m\n",
            "\u001b[32mCalculated broadening HWHM in 0.04s\u001b[0m\n",
            "\u001b[32m> Calculating line broadening (124962 lines: expect ~ 25.00s on 1 CPU)\u001b[0m\n"
          ],
          "name": "stdout"
        },
        {
          "output_type": "stream",
          "text": [
            "/usr/local/lib/python3.7/dist-packages/radis/misc/warning.py:302: MissingSelfBroadeningWarning: Self-broadening temperature coefficient Tdpsel not given in database: used Tdpair instead\n",
            "  warnings.warn(WarningType(message))\n",
            "/usr/local/lib/python3.7/dist-packages/radis/misc/warning.py:302: AccuracyWarning: Some lines are too narrow (FWHM ~ 0.015 cm⁻¹) for the current spectral grid (wstep=0.005). Please reduce wstep to below 0.005 cm⁻¹. You can also ignore by setting `warnings={'AccuracyWarning':'ignore'}` (if you know what you're doing!)\n",
            "  warnings.warn(WarningType(message))\n"
          ],
          "name": "stderr"
        },
        {
          "output_type": "stream",
          "text": [
            "\u001b[32mCalculated line broadening in 34.75s\u001b[0m\n",
            "\u001b[32mCalculated other spectral quantities in 0.22s\u001b[0m\n",
            "\u001b[32mSpectrum calculated in 35.26s (before object generation)\u001b[0m\n",
            "\u001b[32mGenerated Spectrum object in 0.16s\u001b[0m\n",
            "Spectrum calculated in 35.43s\n"
          ],
          "name": "stdout"
        }
      ]
    },
    {
      "cell_type": "code",
      "metadata": {
        "colab": {
          "base_uri": "https://localhost:8080/",
          "height": 471
        },
        "id": "t2FTPXB5ItHl",
        "outputId": "27f26dfa-2d9d-456c-d967-ba6616cc0654"
      },
      "source": [
        "#%% Compare performance for N_lines\n",
        "set_style('origin')\n",
        "plt.figure()\n",
        "plt.plot(Nlines, [spectra_default[N].conditions['calculation_time'] for N in Nlines], '--ok', label = \"Optimization = None\" )\n",
        "plt.xlabel('Number of lines (#)')\n",
        "plt.xscale('log')\n",
        "plt.yscale('log')\n",
        "plt.ylabel('Calculation time (s)')\n",
        "plt.legend()\n",
        "fix_style('origin')"
      ],
      "execution_count": 11,
      "outputs": [
        {
          "output_type": "display_data",
          "data": {
            "image/png": "[encoded data removed]",
            "text/plain": [
              "<Figure size 640x480 with 1 Axes>"
            ]
          },
          "metadata": {
            "tags": []
          }
        }
      ]
    },
    {
      "cell_type": "markdown",
      "metadata": {
        "id": "o1zDsL93LE57"
      },
      "source": [
        "Manually checking the time taken by **_calc_lineshape()** and **_apply_lineshape()** for different N_lines   \n",
        "\n",
        "**(N_lines ,  _calc_lineshape()  , _apply_lineshape())** <br>\n",
        "10, 0, 0<br>\n",
        "1e2, 0, 0 <br>\n",
        "1e3, 0.3, 0<br>\n",
        "1e4, 2.8, 02<br>\n",
        "1e5, 34.2, 2.5       <br>"
      ]
    },
    {
      "cell_type": "code",
      "metadata": {
        "colab": {
          "base_uri": "https://localhost:8080/"
        },
        "id": "Qn5eCvmYI8rp",
        "outputId": "d9d583b5-6bb7-4c71-e654-0f9ec4b03961"
      },
      "source": [
        "print(Nlines_target)\n",
        "print(spectra_default)"
      ],
      "execution_count": 12,
      "outputs": [
        {
          "output_type": "stream",
          "text": [
            "[10.0, 100.0, 1000.0, 10000.0, 100000.0, 110000.0, 120000.0]\n",
            "{11: <radis.spectrum.spectrum.Spectrum object at 0x7f2d7805a350>, 101: <radis.spectrum.spectrum.Spectrum object at 0x7f2d780597d0>, 1003: <radis.spectrum.spectrum.Spectrum object at 0x7f2d78059ed0>, 10132: <radis.spectrum.spectrum.Spectrum object at 0x7f2d78059e50>, 124962: <radis.spectrum.spectrum.Spectrum object at 0x7f2d77429750>}\n"
          ],
          "name": "stdout"
        }
      ]
    }
  ]
}